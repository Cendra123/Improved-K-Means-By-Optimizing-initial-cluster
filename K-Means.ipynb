{
 "cells": [
  {
   "cell_type": "code",
   "execution_count": 1,
   "metadata": {},
   "outputs": [],
   "source": [
    "import pandas as pd"
   ]
  },
  {
   "cell_type": "code",
   "execution_count": 2,
   "metadata": {},
   "outputs": [],
   "source": [
    "tfidf = pd.read_excel(\"TF-IDF_normalisasi_01.xlsx\")"
   ]
  },
  {
   "cell_type": "code",
   "execution_count": 3,
   "metadata": {},
   "outputs": [],
   "source": [
    "target = pd.read_excel('analisis hapus.xlsx')"
   ]
  },
  {
   "cell_type": "code",
   "execution_count": 4,
   "metadata": {},
   "outputs": [],
   "source": [
    "tfidf['target_outlier'] = target.target_outlier\n",
    "tfidf_df_clean_01 = tfidf[tfidf.target_outlier != -1]\n",
    "tfidf_df_clean_01 = tfidf_df_clean_01.drop(columns=['target_outlier'])"
   ]
  },
  {
   "cell_type": "code",
   "execution_count": 5,
   "metadata": {},
   "outputs": [
    {
     "name": "stdout",
     "output_type": "stream",
     "text": [
      "      aam  aamiin  abad  abadi  abah  abai  abang  abd  abdan  abdi  ...  \\\n",
      "0     0.0     0.0   0.0    0.0   0.0   0.0    0.0  0.0    0.0   0.0  ...   \n",
      "1     0.0     0.0   0.0    0.0   0.0   0.0    0.0  0.0    0.0   0.0  ...   \n",
      "2     0.0     0.0   0.0    0.0   0.0   0.0    0.0  0.0    0.0   0.0  ...   \n",
      "4     0.0     0.0   0.0    0.0   0.0   0.0    0.0  0.0    0.0   0.0  ...   \n",
      "6     0.0     0.0   0.0    0.0   0.0   0.0    0.0  0.0    0.0   0.0  ...   \n",
      "...   ...     ...   ...    ...   ...   ...    ...  ...    ...   ...  ...   \n",
      "1558  0.0     0.0   0.0    0.0   0.0   0.0    0.0  0.0    0.0   0.0  ...   \n",
      "1559  0.0     0.0   0.0    0.0   0.0   0.0    0.0  0.0    0.0   0.0  ...   \n",
      "1561  0.0     0.0   0.0    0.0   0.0   0.0    0.0  0.0    0.0   0.0  ...   \n",
      "1562  0.0     0.0   0.0    0.0   0.0   0.0    0.0  0.0    0.0   0.0  ...   \n",
      "1563  0.0     0.0   0.0    0.0   0.0   0.0    0.0  0.0    0.0   0.0  ...   \n",
      "\n",
      "      zhongxiiao  zhongzheng  ziarah  zikir  zina  zona  zubair  zuhri  zuhur  \\\n",
      "0            0.0         0.0     0.0    0.0   0.0   0.0     0.0    0.0    0.0   \n",
      "1            0.0         0.0     0.0    0.0   0.0   0.0     0.0    0.0    0.0   \n",
      "2            0.0         0.0     0.0    0.0   0.0   0.0     0.0    0.0    0.0   \n",
      "4            0.0         0.0     0.0    0.0   0.0   0.0     0.0    0.0    0.0   \n",
      "6            0.0         0.0     0.0    0.0   0.0   0.0     0.0    0.0    0.0   \n",
      "...          ...         ...     ...    ...   ...   ...     ...    ...    ...   \n",
      "1558         0.0         0.0     0.0    0.0   0.0   0.0     0.0    0.0    0.0   \n",
      "1559         0.0         0.0     0.0    0.0   0.0   0.0     0.0    0.0    0.0   \n",
      "1561         0.0         0.0     0.0    0.0   0.0   0.0     0.0    0.0    0.0   \n",
      "1562         0.0         0.0     0.0    0.0   0.0   0.0     0.0    0.0    0.0   \n",
      "1563         0.0         0.0     0.0    0.0   0.0   0.0     0.0    0.0    0.0   \n",
      "\n",
      "      zulkifli  \n",
      "0          0.0  \n",
      "1          0.0  \n",
      "2          0.0  \n",
      "4          0.0  \n",
      "6          0.0  \n",
      "...        ...  \n",
      "1558       0.0  \n",
      "1559       0.0  \n",
      "1561       0.0  \n",
      "1562       0.0  \n",
      "1563       0.0  \n",
      "\n",
      "[1485 rows x 4159 columns]\n"
     ]
    }
   ],
   "source": [
    "print(tfidf_df_clean_01)"
   ]
  },
  {
   "cell_type": "code",
   "execution_count": 6,
   "metadata": {},
   "outputs": [],
   "source": [
    "index_centroid = pd.read_excel(\"index_inisiate_centroid.xlsx\")"
   ]
  },
  {
   "cell_type": "code",
   "execution_count": 7,
   "metadata": {},
   "outputs": [],
   "source": [
    "###############################################\n",
    "# Import required libraries:\n",
    "############################################### \n",
    "import numpy as np\n",
    "\n",
    "###############################################\n",
    "# Cosine Similarity Algorithm:\n",
    "############################################### \n",
    "def cosine_sim(vecA, vecB):\n",
    "    #create normalized copies of each vector:\n",
    "    vecA_norm = np.linalg.norm(vecA)\n",
    "    vecB_norm = np.linalg.norm(vecB)\n",
    "    #compute cosine similarity:\n",
    "    sim = np.dot(vecA, vecB)/(vecA_norm * vecB_norm) #this should return a scalar float\n",
    "    return sim\n",
    "\n",
    "###############################################\n",
    "# Vectorized K Means Algorithm:\n",
    "############################################### \n",
    "\n",
    "def K_Means(dataSet, k, max_iter=300, distMeas=cosine_sim):\n",
    "    # Where dataSet is a Numpy array, k is the desired number of clusters, max_iter is the maximum number of loops (to avoid large or\n",
    "    # infinite iterations), distMeas is the desired similarity measure (cosine similarity or Euclidean distance), and createCent is\n",
    "    # the function which creates the initial randomized cluster centers.\n",
    "    \n",
    "    # Store the number of documents\n",
    "    docs = np.shape(dataSet)[0]\n",
    "    \n",
    "    # Create an array of zeros to store 1) the cluster assignment and 2) the distance measure\n",
    "    cluster = np.zeros((docs,2))\n",
    "    \n",
    "    # Call the randCent function to create a randomized set of k centroids\n",
    "    Centroids = tfidf_df_clean_01.loc[index_centroid.loc[0:k-1][0]].to_numpy()\n",
    "    \n",
    "    # Initial values to start the while loop\n",
    "    clusterChanged = True\n",
    "    cur_iter = 0\n",
    "    \n",
    "    # While the cluster assignments are still changing and we have not reached the max iteration:\n",
    "    while clusterChanged and cur_iter < max_iter:\n",
    "        # Update the clusterChanged value so we don't run into an infinite loop.\n",
    "        clusterChanged = False # note that there is code further down to change this to true if the clusters did change\n",
    "        \n",
    "        #assign the previous cluster to an object:\n",
    "        previous_cluster = np.array(cluster, copy=True) #intially, this will be the random cluster starting points\n",
    "        \n",
    "        # Create an intital matrix of zeros to store similarity values:\n",
    "        similarity = np.zeros((k,docs)) #this will eventually show you how similar each doc is to each cluster's centroid\n",
    "        for j in range(k): #iterate once for each cluster (row)\n",
    "            # Run cosine similarity as a numpy function along axis 1 (updates each doc's similarity value, one cluster at a time):\n",
    "            similarity[j,:] = np.apply_along_axis(distMeas, 1, dataSet, Centroids[j,:])\n",
    "            # Documentation: \n",
    "            # Execute func1d(a, *args) where func1d operates on 1-D arrays and 'a' is a 1-D slice of 'arr' along axis.       \n",
    "            # Apply a function to 1-D slices along the given axis.\n",
    "       \n",
    "        # Capture both the cluster assigment and the similarity value. Note: max values => most similar. \n",
    "        cluster[:,0] = np.argmax(similarity, axis=0)         \n",
    "        cluster[:,1] = np.amax(similarity, axis=0) \n",
    "        \n",
    "        # If the clusters have not changed, break out of while loop\n",
    "        if np.array_equal(cluster, previous_cluster):\n",
    "            break \n",
    "        else:\n",
    "            clusterChanged = True #sets this back to true if the cluster assinments are still changing\n",
    "            # We only bother to recalculate centroid if there was a cluster reassignment\n",
    "            for centroid in range(k): #iterate once for each cluster\n",
    "                # Find the indicies of the documents that make up each cluster\n",
    "                correct_cluster = np.where(cluster[:,0] == centroid)[0] \n",
    "                # Use the indicies to grab and store those documents separately\n",
    "                docs_in_cluster = np.take(dataSet, correct_cluster, axis=0) \n",
    "                # If more than one document, take the mean as the new centroid (otherwise centroid is that one document)\n",
    "                if len(docs_in_cluster) > 0: # TEST THIS CODE to see if the if statement can be removed\n",
    "                    Centroids[centroid,:] = np.mean(docs_in_cluster, axis=0)\n",
    "        cur_iter += 1\n",
    "    return Centroids, cluster"
   ]
  },
  {
   "cell_type": "code",
   "execution_count": 9,
   "metadata": {},
   "outputs": [
    {
     "name": "stdout",
     "output_type": "stream",
     "text": [
      "For n_clusters = 2 The average silhouette_score is : 0.006184115811170017\n",
      "SSE 1231.8360224524297\n",
      "For n_clusters = 3 The average silhouette_score is : 0.006076601820593741\n",
      "SSE 1213.0276186775664\n",
      "For n_clusters = 4 The average silhouette_score is : 0.0074040207306161\n",
      "SSE 1193.832262752033\n",
      "For n_clusters = 5 The average silhouette_score is : 0.007756251196013404\n",
      "SSE 1183.7031902296987\n",
      "For n_clusters = 6 The average silhouette_score is : 0.00822309282915333\n",
      "SSE 1171.1994607389536\n",
      "For n_clusters = 7 The average silhouette_score is : 0.00831095068410631\n",
      "SSE 1162.3644224042928\n",
      "For n_clusters = 8 The average silhouette_score is : 0.008993910708806264\n",
      "SSE 1152.860852035656\n",
      "For n_clusters = 9 The average silhouette_score is : 0.008669581462883854\n",
      "SSE 1150.8822444378911\n",
      "For n_clusters = 10 The average silhouette_score is : 0.008778012549831855\n",
      "SSE 1146.5664815910627\n",
      "For n_clusters = 11 The average silhouette_score is : 0.009025854325615059\n",
      "SSE 1140.7379998330744\n",
      "For n_clusters = 12 The average silhouette_score is : 0.009241881252483587\n",
      "SSE 1135.9467075141492\n",
      "For n_clusters = 13 The average silhouette_score is : 0.010960995704808097\n",
      "SSE 1125.0920315345052\n",
      "For n_clusters = 14 The average silhouette_score is : 0.011402200536880996\n",
      "SSE 1118.4162429160779\n",
      "For n_clusters = 15 The average silhouette_score is : 0.012042881999968391\n",
      "SSE 1109.4587637804202\n",
      "For n_clusters = 16 The average silhouette_score is : 0.010342816702510563\n",
      "SSE 1109.0949718025913\n",
      "For n_clusters = 17 The average silhouette_score is : 0.012999373309172581\n",
      "SSE 1095.5920862627531\n",
      "For n_clusters = 18 The average silhouette_score is : 0.012851907826826827\n",
      "SSE 1094.2383207863068\n",
      "For n_clusters = 19 The average silhouette_score is : 0.011074305113157934\n",
      "SSE 1095.1969924523646\n",
      "For n_clusters = 20 The average silhouette_score is : 0.011340809783282675\n",
      "SSE 1090.1205931304544\n"
     ]
    }
   ],
   "source": [
    "from sklearn.metrics import silhouette_samples, silhouette_score\n",
    "\n",
    "\n",
    "silhouette_0 = []\n",
    "sse_0 = []\n",
    "for n_clusters in range(2,21):\n",
    "    centroid,cluster = K_Means(tfidf_df_clean_01.to_numpy(),n_clusters)\n",
    "\n",
    "    cluster_labels = cluster[:,0]\n",
    "    silhouette_avg = silhouette_score(tfidf_df_clean_01, cluster_labels)\n",
    "    print(\"For n_clusters =\", n_clusters, \"The average silhouette_score is :\", silhouette_avg)\n",
    "    \n",
    "    sse = len(tfidf_df_clean_01.to_numpy())-np.sum(cluster[:,1])\n",
    "    print(\"SSE\", sse)\n",
    "    silhouette_0.append(silhouette_avg)\n",
    "    sse_0.append(sse)"
   ]
  },
  {
   "cell_type": "code",
   "execution_count": 14,
   "metadata": {},
   "outputs": [
    {
     "ename": "ValueError",
     "evalue": "x and y must have same first dimension, but have shapes (1024,) and (19,)",
     "output_type": "error",
     "traceback": [
      "\u001b[1;31m---------------------------------------------------------------------------\u001b[0m",
      "\u001b[1;31mValueError\u001b[0m                                Traceback (most recent call last)",
      "\u001b[1;32m<ipython-input-14-8cb21fddab3c>\u001b[0m in \u001b[0;36m<module>\u001b[1;34m\u001b[0m\n\u001b[0;32m      5\u001b[0m \u001b[0mx\u001b[0m \u001b[1;33m=\u001b[0m \u001b[0mnp\u001b[0m\u001b[1;33m.\u001b[0m\u001b[0mlinspace\u001b[0m\u001b[1;33m(\u001b[0m\u001b[1;36m2\u001b[0m\u001b[1;33m,\u001b[0m \u001b[1;36m20\u001b[0m\u001b[1;33m,\u001b[0m \u001b[1;36m1024\u001b[0m\u001b[1;33m)\u001b[0m\u001b[1;33m\u001b[0m\u001b[0m\n\u001b[0;32m      6\u001b[0m \u001b[0my\u001b[0m \u001b[1;33m=\u001b[0m \u001b[0msilhouette_0\u001b[0m\u001b[1;33m\u001b[0m\u001b[0m\n\u001b[1;32m----> 7\u001b[1;33m \u001b[0mplt\u001b[0m\u001b[1;33m.\u001b[0m\u001b[0mplot\u001b[0m\u001b[1;33m(\u001b[0m\u001b[0mx\u001b[0m\u001b[1;33m,\u001b[0m\u001b[0my\u001b[0m\u001b[1;33m)\u001b[0m\u001b[1;33m\u001b[0m\u001b[0m\n\u001b[0m\u001b[0;32m      8\u001b[0m \u001b[0mplt\u001b[0m\u001b[1;33m.\u001b[0m\u001b[0mshow\u001b[0m\u001b[1;33m(\u001b[0m\u001b[1;33m)\u001b[0m\u001b[1;33m\u001b[0m\u001b[0m\n",
      "\u001b[1;32md:\\research\\skripsi\\stki\\code k-means\\skrpsi\\venv\\lib\\site-packages\\matplotlib\\pyplot.py\u001b[0m in \u001b[0;36mplot\u001b[1;34m(scalex, scaley, data, *args, **kwargs)\u001b[0m\n\u001b[0;32m   2787\u001b[0m     return gca().plot(\n\u001b[0;32m   2788\u001b[0m         *args, scalex=scalex, scaley=scaley, **({\"data\": data} if data\n\u001b[1;32m-> 2789\u001b[1;33m         is not None else {}), **kwargs)\n\u001b[0m\u001b[0;32m   2790\u001b[0m \u001b[1;33m\u001b[0m\u001b[0m\n\u001b[0;32m   2791\u001b[0m \u001b[1;33m\u001b[0m\u001b[0m\n",
      "\u001b[1;32md:\\research\\skripsi\\stki\\code k-means\\skrpsi\\venv\\lib\\site-packages\\matplotlib\\axes\\_axes.py\u001b[0m in \u001b[0;36mplot\u001b[1;34m(self, scalex, scaley, data, *args, **kwargs)\u001b[0m\n\u001b[0;32m   1663\u001b[0m         \"\"\"\n\u001b[0;32m   1664\u001b[0m         \u001b[0mkwargs\u001b[0m \u001b[1;33m=\u001b[0m \u001b[0mcbook\u001b[0m\u001b[1;33m.\u001b[0m\u001b[0mnormalize_kwargs\u001b[0m\u001b[1;33m(\u001b[0m\u001b[0mkwargs\u001b[0m\u001b[1;33m,\u001b[0m \u001b[0mmlines\u001b[0m\u001b[1;33m.\u001b[0m\u001b[0mLine2D\u001b[0m\u001b[1;33m.\u001b[0m\u001b[0m_alias_map\u001b[0m\u001b[1;33m)\u001b[0m\u001b[1;33m\u001b[0m\u001b[0m\n\u001b[1;32m-> 1665\u001b[1;33m         \u001b[0mlines\u001b[0m \u001b[1;33m=\u001b[0m \u001b[1;33m[\u001b[0m\u001b[1;33m*\u001b[0m\u001b[0mself\u001b[0m\u001b[1;33m.\u001b[0m\u001b[0m_get_lines\u001b[0m\u001b[1;33m(\u001b[0m\u001b[1;33m*\u001b[0m\u001b[0margs\u001b[0m\u001b[1;33m,\u001b[0m \u001b[0mdata\u001b[0m\u001b[1;33m=\u001b[0m\u001b[0mdata\u001b[0m\u001b[1;33m,\u001b[0m \u001b[1;33m**\u001b[0m\u001b[0mkwargs\u001b[0m\u001b[1;33m)\u001b[0m\u001b[1;33m]\u001b[0m\u001b[1;33m\u001b[0m\u001b[0m\n\u001b[0m\u001b[0;32m   1666\u001b[0m         \u001b[1;32mfor\u001b[0m \u001b[0mline\u001b[0m \u001b[1;32min\u001b[0m \u001b[0mlines\u001b[0m\u001b[1;33m:\u001b[0m\u001b[1;33m\u001b[0m\u001b[0m\n\u001b[0;32m   1667\u001b[0m             \u001b[0mself\u001b[0m\u001b[1;33m.\u001b[0m\u001b[0madd_line\u001b[0m\u001b[1;33m(\u001b[0m\u001b[0mline\u001b[0m\u001b[1;33m)\u001b[0m\u001b[1;33m\u001b[0m\u001b[0m\n",
      "\u001b[1;32md:\\research\\skripsi\\stki\\code k-means\\skrpsi\\venv\\lib\\site-packages\\matplotlib\\axes\\_base.py\u001b[0m in \u001b[0;36m__call__\u001b[1;34m(self, *args, **kwargs)\u001b[0m\n\u001b[0;32m    223\u001b[0m                 \u001b[0mthis\u001b[0m \u001b[1;33m+=\u001b[0m \u001b[0margs\u001b[0m\u001b[1;33m[\u001b[0m\u001b[1;36m0\u001b[0m\u001b[1;33m]\u001b[0m\u001b[1;33m,\u001b[0m\u001b[1;33m\u001b[0m\u001b[0m\n\u001b[0;32m    224\u001b[0m                 \u001b[0margs\u001b[0m \u001b[1;33m=\u001b[0m \u001b[0margs\u001b[0m\u001b[1;33m[\u001b[0m\u001b[1;36m1\u001b[0m\u001b[1;33m:\u001b[0m\u001b[1;33m]\u001b[0m\u001b[1;33m\u001b[0m\u001b[0m\n\u001b[1;32m--> 225\u001b[1;33m             \u001b[1;32myield\u001b[0m \u001b[1;32mfrom\u001b[0m \u001b[0mself\u001b[0m\u001b[1;33m.\u001b[0m\u001b[0m_plot_args\u001b[0m\u001b[1;33m(\u001b[0m\u001b[0mthis\u001b[0m\u001b[1;33m,\u001b[0m \u001b[0mkwargs\u001b[0m\u001b[1;33m)\u001b[0m\u001b[1;33m\u001b[0m\u001b[0m\n\u001b[0m\u001b[0;32m    226\u001b[0m \u001b[1;33m\u001b[0m\u001b[0m\n\u001b[0;32m    227\u001b[0m     \u001b[1;32mdef\u001b[0m \u001b[0mget_next_color\u001b[0m\u001b[1;33m(\u001b[0m\u001b[0mself\u001b[0m\u001b[1;33m)\u001b[0m\u001b[1;33m:\u001b[0m\u001b[1;33m\u001b[0m\u001b[0m\n",
      "\u001b[1;32md:\\research\\skripsi\\stki\\code k-means\\skrpsi\\venv\\lib\\site-packages\\matplotlib\\axes\\_base.py\u001b[0m in \u001b[0;36m_plot_args\u001b[1;34m(self, tup, kwargs)\u001b[0m\n\u001b[0;32m    389\u001b[0m             \u001b[0mx\u001b[0m\u001b[1;33m,\u001b[0m \u001b[0my\u001b[0m \u001b[1;33m=\u001b[0m \u001b[0mindex_of\u001b[0m\u001b[1;33m(\u001b[0m\u001b[0mtup\u001b[0m\u001b[1;33m[\u001b[0m\u001b[1;33m-\u001b[0m\u001b[1;36m1\u001b[0m\u001b[1;33m]\u001b[0m\u001b[1;33m)\u001b[0m\u001b[1;33m\u001b[0m\u001b[0m\n\u001b[0;32m    390\u001b[0m \u001b[1;33m\u001b[0m\u001b[0m\n\u001b[1;32m--> 391\u001b[1;33m         \u001b[0mx\u001b[0m\u001b[1;33m,\u001b[0m \u001b[0my\u001b[0m \u001b[1;33m=\u001b[0m \u001b[0mself\u001b[0m\u001b[1;33m.\u001b[0m\u001b[0m_xy_from_xy\u001b[0m\u001b[1;33m(\u001b[0m\u001b[0mx\u001b[0m\u001b[1;33m,\u001b[0m \u001b[0my\u001b[0m\u001b[1;33m)\u001b[0m\u001b[1;33m\u001b[0m\u001b[0m\n\u001b[0m\u001b[0;32m    392\u001b[0m \u001b[1;33m\u001b[0m\u001b[0m\n\u001b[0;32m    393\u001b[0m         \u001b[1;32mif\u001b[0m \u001b[0mself\u001b[0m\u001b[1;33m.\u001b[0m\u001b[0mcommand\u001b[0m \u001b[1;33m==\u001b[0m \u001b[1;34m'plot'\u001b[0m\u001b[1;33m:\u001b[0m\u001b[1;33m\u001b[0m\u001b[0m\n",
      "\u001b[1;32md:\\research\\skripsi\\stki\\code k-means\\skrpsi\\venv\\lib\\site-packages\\matplotlib\\axes\\_base.py\u001b[0m in \u001b[0;36m_xy_from_xy\u001b[1;34m(self, x, y)\u001b[0m\n\u001b[0;32m    268\u001b[0m         \u001b[1;32mif\u001b[0m \u001b[0mx\u001b[0m\u001b[1;33m.\u001b[0m\u001b[0mshape\u001b[0m\u001b[1;33m[\u001b[0m\u001b[1;36m0\u001b[0m\u001b[1;33m]\u001b[0m \u001b[1;33m!=\u001b[0m \u001b[0my\u001b[0m\u001b[1;33m.\u001b[0m\u001b[0mshape\u001b[0m\u001b[1;33m[\u001b[0m\u001b[1;36m0\u001b[0m\u001b[1;33m]\u001b[0m\u001b[1;33m:\u001b[0m\u001b[1;33m\u001b[0m\u001b[0m\n\u001b[0;32m    269\u001b[0m             raise ValueError(\"x and y must have same first dimension, but \"\n\u001b[1;32m--> 270\u001b[1;33m                              \"have shapes {} and {}\".format(x.shape, y.shape))\n\u001b[0m\u001b[0;32m    271\u001b[0m         \u001b[1;32mif\u001b[0m \u001b[0mx\u001b[0m\u001b[1;33m.\u001b[0m\u001b[0mndim\u001b[0m \u001b[1;33m>\u001b[0m \u001b[1;36m2\u001b[0m \u001b[1;32mor\u001b[0m \u001b[0my\u001b[0m\u001b[1;33m.\u001b[0m\u001b[0mndim\u001b[0m \u001b[1;33m>\u001b[0m \u001b[1;36m2\u001b[0m\u001b[1;33m:\u001b[0m\u001b[1;33m\u001b[0m\u001b[0m\n\u001b[0;32m    272\u001b[0m             raise ValueError(\"x and y can be no greater than 2-D, but have \"\n",
      "\u001b[1;31mValueError\u001b[0m: x and y must have same first dimension, but have shapes (1024,) and (19,)"
     ]
    },
    {
     "data": {
      "image/png": "[encoded data removed]",
      "text/plain": [
       "<Figure size 432x288 with 1 Axes>"
      ]
     },
     "metadata": {
      "needs_background": "light"
     },
     "output_type": "display_data"
    }
   ],
   "source": [
    "import matplotlib.pyplot as plt\n",
    "import numpy as np\n",
    "from matplotlib import interactive\n",
    "\n",
    "x = [2,3,4,5,6,7,8,9,10,11,12,13,14,15,16,17,18,19,20]\n",
    "y = silhouette_0\n",
    "plt.plot(x,y)\n",
    "plt.ylabel('Average Price')\n",
    "plt.xlabel('nilai K')\n",
    "plt.show()"
   ]
  },
  {
   "cell_type": "code",
   "execution_count": 11,
   "metadata": {},
   "outputs": [
    {
     "data": {
      "image/png": "[encoded data removed]",
      "text/plain": [
       "<Figure size 432x288 with 1 Axes>"
      ]
     },
     "metadata": {
      "needs_background": "light"
     },
     "output_type": "display_data"
    }
   ],
   "source": [
    "import matplotlib.pyplot as plt\n",
    "import numpy as np\n",
    "from matplotlib import interactive\n",
    "\n",
    "x = [2,3,4,5,6,7,8,9,10,11,12,13,14,15,16,17,18,19,20]\n",
    "y = sse_0\n",
    "plt.plot(x,y)\n",
    "plt.show()"
   ]
  },
  {
   "cell_type": "code",
   "execution_count": 12,
   "metadata": {},
   "outputs": [],
   "source": [
    "silhouette_0_df = pd.DataFrame(silhouette_0)\n",
    "silhouette_0_df.to_excel(\"shillouette_fix_cs.xlsx\")"
   ]
  },
  {
   "cell_type": "code",
   "execution_count": 13,
   "metadata": {},
   "outputs": [],
   "source": [
    "silhouette_0_df = pd.DataFrame(sse_0)\n",
    "silhouette_0_df.to_excel(\"sse_fix_cs.xlsx\")"
   ]
  },
  {
   "cell_type": "code",
   "execution_count": null,
   "metadata": {},
   "outputs": [],
   "source": []
  },
  {
   "cell_type": "code",
   "execution_count": null,
   "metadata": {},
   "outputs": [],
   "source": []
  },
  {
   "cell_type": "code",
   "execution_count": null,
   "metadata": {},
   "outputs": [],
   "source": []
  },
  {
   "cell_type": "code",
   "execution_count": null,
   "metadata": {},
   "outputs": [],
   "source": []
  },
  {
   "cell_type": "code",
   "execution_count": null,
   "metadata": {},
   "outputs": [],
   "source": []
  },
  {
   "cell_type": "code",
   "execution_count": null,
   "metadata": {},
   "outputs": [],
   "source": []
  },
  {
   "cell_type": "code",
   "execution_count": null,
   "metadata": {},
   "outputs": [],
   "source": []
  },
  {
   "cell_type": "code",
   "execution_count": null,
   "metadata": {},
   "outputs": [],
   "source": []
  },
  {
   "cell_type": "code",
   "execution_count": null,
   "metadata": {},
   "outputs": [],
   "source": []
  },
  {
   "cell_type": "code",
   "execution_count": 33,
   "metadata": {},
   "outputs": [
    {
     "name": "stdout",
     "output_type": "stream",
     "text": [
      "[[0.00110258 0.00521897 0.00280001 ... 0.         0.         0.        ]\n",
      " [0.00364473 0.00101577 0.         ... 0.00078949 0.00171998 0.        ]\n",
      " [0.00108325 0.00259382 0.00199195 ... 0.         0.         0.00128366]\n",
      " [0.         0.05156305 0.         ... 0.         0.         0.        ]\n",
      " [0.         0.         0.         ... 0.         0.         0.        ]]\n"
     ]
    }
   ],
   "source": [
    "print(centroid)"
   ]
  },
  {
   "cell_type": "code",
   "execution_count": 54,
   "metadata": {},
   "outputs": [
    {
     "name": "stdout",
     "output_type": "stream",
     "text": [
      "0.20289347459279541\n",
      "301.2968097703012\n"
     ]
    }
   ],
   "source": [
    "print(np.average(cluster[:,1]))\n",
    "print(np.sum(cluster[:,1]))"
   ]
  },
  {
   "cell_type": "code",
   "execution_count": 56,
   "metadata": {},
   "outputs": [
    {
     "name": "stdout",
     "output_type": "stream",
     "text": [
      "1183.7031902296987\n"
     ]
    }
   ],
   "source": [
    "print()"
   ]
  },
  {
   "cell_type": "code",
   "execution_count": 62,
   "metadata": {},
   "outputs": [],
   "source": [
    "cluster_label = cluster[:,0]"
   ]
  },
  {
   "cell_type": "code",
   "execution_count": 63,
   "metadata": {},
   "outputs": [],
   "source": [
    "from sklearn.metrics import silhouette_samples, silhouette_score\n",
    "\n",
    "silhouette_avg = silhouette_score(tfidf_df_clean_01, cluster_label)"
   ]
  },
  {
   "cell_type": "code",
   "execution_count": 64,
   "metadata": {},
   "outputs": [
    {
     "name": "stdout",
     "output_type": "stream",
     "text": [
      "0.007756251196013404\n"
     ]
    }
   ],
   "source": [
    "print(silhouette_avg)"
   ]
  },
  {
   "cell_type": "code",
   "execution_count": null,
   "metadata": {},
   "outputs": [],
   "source": []
  }
 ],
 "metadata": {
  "kernelspec": {
   "display_name": "Python 3",
   "language": "python",
   "name": "python3"
  },
  "language_info": {
   "codemirror_mode": {
    "name": "ipython",
    "version": 3
   },
   "file_extension": ".py",
   "mimetype": "text/x-python",
   "name": "python",
   "nbconvert_exporter": "python",
   "pygments_lexer": "ipython3",
   "version": "3.7.0"
  }
 },
 "nbformat": 4,
 "nbformat_minor": 2
}
