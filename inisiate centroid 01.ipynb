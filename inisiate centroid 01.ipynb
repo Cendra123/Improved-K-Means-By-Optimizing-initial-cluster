{
 "cells": [
  {
   "cell_type": "code",
   "execution_count": 1,
   "metadata": {},
   "outputs": [],
   "source": [
    "import pandas as pd"
   ]
  },
  {
   "cell_type": "code",
   "execution_count": 2,
   "metadata": {},
   "outputs": [],
   "source": [
    "tf_idf_01 = pd.read_excel(\"TF-IDF_normalisasi_01.xlsx\")"
   ]
  },
  {
   "cell_type": "code",
   "execution_count": 3,
   "metadata": {},
   "outputs": [],
   "source": [
    "target = pd.read_excel(\"analisis hapus.xlsx\")"
   ]
  },
  {
   "cell_type": "code",
   "execution_count": 4,
   "metadata": {},
   "outputs": [
    {
     "name": "stdout",
     "output_type": "stream",
     "text": [
      "      Column1                                              Tweet  \\\n",
      "0         0.0   terima kasih seluruh rakyat hak suara baik ba...   \n",
      "1         1.0   hak pilih bagai warga negara indonesia bagaim...   \n",
      "2         2.0                           selamat pilih indonesia    \n",
      "3         3.0   aku penuh panggil allah aku penuh panggil sek...   \n",
      "4         4.0   salam sri baginda raja salman seluruh rakyat ...   \n",
      "...       ...                                                ...   \n",
      "1560   1560.0                                       terimakasih    \n",
      "1561   1561.0            selamat tahun baru mula amin indonesia    \n",
      "1562   1562.0   sama benam matahari terbit fajar ayun langkah...   \n",
      "1563   1563.0                               tuju indonesia maju    \n",
      "1564      NaN                                                NaN   \n",
      "\n",
      "      target_outlier     density  \n",
      "0                1.0  841.000000  \n",
      "1                1.0  555.000000  \n",
      "2                1.0  416.000000  \n",
      "3               -1.0  182.000000  \n",
      "4                1.0  705.000000  \n",
      "...              ...         ...  \n",
      "1560            -1.0    7.000000  \n",
      "1561             1.0  689.000000  \n",
      "1562             1.0  372.000000  \n",
      "1563             1.0  421.000000  \n",
      "1564             NaN  488.326087  \n",
      "\n",
      "[1565 rows x 4 columns]\n"
     ]
    }
   ],
   "source": [
    "print(target)"
   ]
  },
  {
   "cell_type": "code",
   "execution_count": 5,
   "metadata": {},
   "outputs": [],
   "source": [
    "tf_idf_01['outlier'] = target.target_outlier"
   ]
  },
  {
   "cell_type": "code",
   "execution_count": 6,
   "metadata": {},
   "outputs": [],
   "source": [
    "tf_idf_01_clean = tf_idf_01[tf_idf_01.outlier != -1]"
   ]
  },
  {
   "cell_type": "code",
   "execution_count": 8,
   "metadata": {},
   "outputs": [
    {
     "name": "stdout",
     "output_type": "stream",
     "text": [
      "      aam  aamiin  abad  abadi  abah  abai  abang  abd  abdan  abdi  ...  \\\n",
      "0     0.0     0.0   0.0    0.0   0.0   0.0    0.0  0.0    0.0   0.0  ...   \n",
      "1     0.0     0.0   0.0    0.0   0.0   0.0    0.0  0.0    0.0   0.0  ...   \n",
      "2     0.0     0.0   0.0    0.0   0.0   0.0    0.0  0.0    0.0   0.0  ...   \n",
      "4     0.0     0.0   0.0    0.0   0.0   0.0    0.0  0.0    0.0   0.0  ...   \n",
      "6     0.0     0.0   0.0    0.0   0.0   0.0    0.0  0.0    0.0   0.0  ...   \n",
      "...   ...     ...   ...    ...   ...   ...    ...  ...    ...   ...  ...   \n",
      "1558  0.0     0.0   0.0    0.0   0.0   0.0    0.0  0.0    0.0   0.0  ...   \n",
      "1559  0.0     0.0   0.0    0.0   0.0   0.0    0.0  0.0    0.0   0.0  ...   \n",
      "1561  0.0     0.0   0.0    0.0   0.0   0.0    0.0  0.0    0.0   0.0  ...   \n",
      "1562  0.0     0.0   0.0    0.0   0.0   0.0    0.0  0.0    0.0   0.0  ...   \n",
      "1563  0.0     0.0   0.0    0.0   0.0   0.0    0.0  0.0    0.0   0.0  ...   \n",
      "\n",
      "      zhongzheng  ziarah  zikir  zina  zona  zubair  zuhri  zuhur  zulkifli  \\\n",
      "0            0.0     0.0    0.0   0.0   0.0     0.0    0.0    0.0       0.0   \n",
      "1            0.0     0.0    0.0   0.0   0.0     0.0    0.0    0.0       0.0   \n",
      "2            0.0     0.0    0.0   0.0   0.0     0.0    0.0    0.0       0.0   \n",
      "4            0.0     0.0    0.0   0.0   0.0     0.0    0.0    0.0       0.0   \n",
      "6            0.0     0.0    0.0   0.0   0.0     0.0    0.0    0.0       0.0   \n",
      "...          ...     ...    ...   ...   ...     ...    ...    ...       ...   \n",
      "1558         0.0     0.0    0.0   0.0   0.0     0.0    0.0    0.0       0.0   \n",
      "1559         0.0     0.0    0.0   0.0   0.0     0.0    0.0    0.0       0.0   \n",
      "1561         0.0     0.0    0.0   0.0   0.0     0.0    0.0    0.0       0.0   \n",
      "1562         0.0     0.0    0.0   0.0   0.0     0.0    0.0    0.0       0.0   \n",
      "1563         0.0     0.0    0.0   0.0   0.0     0.0    0.0    0.0       0.0   \n",
      "\n",
      "      outlier  \n",
      "0         1.0  \n",
      "1         1.0  \n",
      "2         1.0  \n",
      "4         1.0  \n",
      "6         1.0  \n",
      "...       ...  \n",
      "1558      1.0  \n",
      "1559      1.0  \n",
      "1561      1.0  \n",
      "1562      1.0  \n",
      "1563      1.0  \n",
      "\n",
      "[1485 rows x 4160 columns]\n"
     ]
    }
   ],
   "source": [
    "print(tf_idf_01_clean)"
   ]
  },
  {
   "cell_type": "code",
   "execution_count": 10,
   "metadata": {},
   "outputs": [],
   "source": [
    "tf_idf_01_clean = tf_idf_01_clean.drop(columns = \"outlier\")"
   ]
  },
  {
   "cell_type": "code",
   "execution_count": 11,
   "metadata": {},
   "outputs": [],
   "source": [
    "index_centroid = [455]\n",
    "distance_centroid = [0]"
   ]
  },
  {
   "cell_type": "code",
   "execution_count": 12,
   "metadata": {},
   "outputs": [
    {
     "name": "stdout",
     "output_type": "stream",
     "text": [
      "278\n",
      "22\n",
      "32\n",
      "109\n",
      "116\n",
      "240\n",
      "269\n",
      "1047\n",
      "24\n",
      "92\n",
      "1522\n",
      "1558\n",
      "559\n",
      "233\n",
      "1212\n",
      "286\n",
      "965\n",
      "199\n",
      "1456\n"
     ]
    }
   ],
   "source": [
    "import math\n",
    "\n",
    "for centroid_ke in range(2,21):\n",
    "    tmp_index = -1\n",
    "    tmp_value = -1\n",
    "    for tmp_index_of_xi in tf_idf_01_clean.index:\n",
    "        tmp_value_of_xi = 1000000000\n",
    "        \n",
    "#         search minimum distance of Collection\n",
    "        for tmp_index_centroid in index_centroid:\n",
    "            distance =  math.sqrt(sum([(a - b) ** 2 for a, b in zip(tf_idf_01_clean.loc[tmp_index_of_xi][:], tf_idf_01_clean.loc[tmp_index_centroid][:])]))\n",
    "            if  tmp_value_of_xi > distance:\n",
    "                tmp_value_of_xi = distance\n",
    "#         sarch maximum distance \n",
    "        if tmp_value < tmp_value_of_xi:\n",
    "            tmp_value = tmp_value_of_xi\n",
    "            tmp_index = tmp_index_of_xi\n",
    "    print(tmp_index)\n",
    "    index_centroid.append(tmp_index) \n",
    "    distance_centroid.append(tmp_value)"
   ]
  },
  {
   "cell_type": "code",
   "execution_count": 13,
   "metadata": {},
   "outputs": [],
   "source": [
    "index_centroid_df = pd.DataFrame(index_centroid)\n",
    "index_centroid_df.to_excel(\"index_inisiate_centroid.xlsx\")"
   ]
  },
  {
   "cell_type": "code",
   "execution_count": 14,
   "metadata": {},
   "outputs": [],
   "source": [
    "distance_centroid_df = pd.DataFrame(distance_centroid)\n",
    "distance_centroid_df.to_excel(\"distance_inisiatecentroid.xlsx\")"
   ]
  },
  {
   "cell_type": "code",
   "execution_count": null,
   "metadata": {},
   "outputs": [],
   "source": []
  }
 ],
 "metadata": {
  "kernelspec": {
   "display_name": "Python 3",
   "language": "python",
   "name": "python3"
  },
  "language_info": {
   "codemirror_mode": {
    "name": "ipython",
    "version": 3
   },
   "file_extension": ".py",
   "mimetype": "text/x-python",
   "name": "python",
   "nbconvert_exporter": "python",
   "pygments_lexer": "ipython3",
   "version": "3.7.0"
  }
 },
 "nbformat": 4,
 "nbformat_minor": 2
}
