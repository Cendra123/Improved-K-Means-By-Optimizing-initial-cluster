{
 "cells": [
  {
   "cell_type": "code",
   "execution_count": 1,
   "metadata": {},
   "outputs": [],
   "source": [
    "import pandas as pd"
   ]
  },
  {
   "cell_type": "code",
   "execution_count": 2,
   "metadata": {},
   "outputs": [],
   "source": [
    "target = pd.read_excel('analisis hapus.xlsx')"
   ]
  },
  {
   "cell_type": "code",
   "execution_count": 3,
   "metadata": {},
   "outputs": [],
   "source": [
    "tf_idf = pd.read_excel('TF-IDF_normalisasi_01.xlsx')"
   ]
  },
  {
   "cell_type": "code",
   "execution_count": 4,
   "metadata": {},
   "outputs": [
    {
     "name": "stdout",
     "output_type": "stream",
     "text": [
      "      aam  aamiin  abad  abadi  abah  abai  abang  abd  abdan  abdi  ...  \\\n",
      "0     0.0     0.0   0.0    0.0   0.0   0.0    0.0  0.0    0.0   0.0  ...   \n",
      "1     0.0     0.0   0.0    0.0   0.0   0.0    0.0  0.0    0.0   0.0  ...   \n",
      "2     0.0     0.0   0.0    0.0   0.0   0.0    0.0  0.0    0.0   0.0  ...   \n",
      "3     0.0     0.0   0.0    0.0   0.0   0.0    0.0  0.0    0.0   0.0  ...   \n",
      "4     0.0     0.0   0.0    0.0   0.0   0.0    0.0  0.0    0.0   0.0  ...   \n",
      "...   ...     ...   ...    ...   ...   ...    ...  ...    ...   ...  ...   \n",
      "1559  0.0     0.0   0.0    0.0   0.0   0.0    0.0  0.0    0.0   0.0  ...   \n",
      "1560  0.0     0.0   0.0    0.0   0.0   0.0    0.0  0.0    0.0   0.0  ...   \n",
      "1561  0.0     0.0   0.0    0.0   0.0   0.0    0.0  0.0    0.0   0.0  ...   \n",
      "1562  0.0     0.0   0.0    0.0   0.0   0.0    0.0  0.0    0.0   0.0  ...   \n",
      "1563  0.0     0.0   0.0    0.0   0.0   0.0    0.0  0.0    0.0   0.0  ...   \n",
      "\n",
      "      zhongxiiao  zhongzheng  ziarah  zikir  zina  zona  zubair  zuhri  zuhur  \\\n",
      "0            0.0         0.0     0.0    0.0   0.0   0.0     0.0    0.0    0.0   \n",
      "1            0.0         0.0     0.0    0.0   0.0   0.0     0.0    0.0    0.0   \n",
      "2            0.0         0.0     0.0    0.0   0.0   0.0     0.0    0.0    0.0   \n",
      "3            0.0         0.0     0.0    0.0   0.0   0.0     0.0    0.0    0.0   \n",
      "4            0.0         0.0     0.0    0.0   0.0   0.0     0.0    0.0    0.0   \n",
      "...          ...         ...     ...    ...   ...   ...     ...    ...    ...   \n",
      "1559         0.0         0.0     0.0    0.0   0.0   0.0     0.0    0.0    0.0   \n",
      "1560         0.0         0.0     0.0    0.0   0.0   0.0     0.0    0.0    0.0   \n",
      "1561         0.0         0.0     0.0    0.0   0.0   0.0     0.0    0.0    0.0   \n",
      "1562         0.0         0.0     0.0    0.0   0.0   0.0     0.0    0.0    0.0   \n",
      "1563         0.0         0.0     0.0    0.0   0.0   0.0     0.0    0.0    0.0   \n",
      "\n",
      "      zulkifli  \n",
      "0          0.0  \n",
      "1          0.0  \n",
      "2          0.0  \n",
      "3          0.0  \n",
      "4          0.0  \n",
      "...        ...  \n",
      "1559       0.0  \n",
      "1560       0.0  \n",
      "1561       0.0  \n",
      "1562       0.0  \n",
      "1563       0.0  \n",
      "\n",
      "[1564 rows x 4159 columns]\n"
     ]
    }
   ],
   "source": [
    "print(tf_idf)"
   ]
  },
  {
   "cell_type": "code",
   "execution_count": 5,
   "metadata": {},
   "outputs": [],
   "source": [
    "tf_idf['target_outlier'] = target.target_outlier\n",
    "tf_idf_df_clean_01 = tf_idf[tf_idf.target_outlier != -1]\n",
    "tf_idf_df_clean_01 = tf_idf_df_clean_01.drop(columns=['target_outlier'])"
   ]
  },
  {
   "cell_type": "code",
   "execution_count": 6,
   "metadata": {},
   "outputs": [
    {
     "name": "stdout",
     "output_type": "stream",
     "text": [
      "      aam  aamiin  abad  abadi  abah  abai  abang  abd  abdan  abdi  ...  \\\n",
      "0     0.0     0.0   0.0    0.0   0.0   0.0    0.0  0.0    0.0   0.0  ...   \n",
      "1     0.0     0.0   0.0    0.0   0.0   0.0    0.0  0.0    0.0   0.0  ...   \n",
      "2     0.0     0.0   0.0    0.0   0.0   0.0    0.0  0.0    0.0   0.0  ...   \n",
      "4     0.0     0.0   0.0    0.0   0.0   0.0    0.0  0.0    0.0   0.0  ...   \n",
      "6     0.0     0.0   0.0    0.0   0.0   0.0    0.0  0.0    0.0   0.0  ...   \n",
      "...   ...     ...   ...    ...   ...   ...    ...  ...    ...   ...  ...   \n",
      "1558  0.0     0.0   0.0    0.0   0.0   0.0    0.0  0.0    0.0   0.0  ...   \n",
      "1559  0.0     0.0   0.0    0.0   0.0   0.0    0.0  0.0    0.0   0.0  ...   \n",
      "1561  0.0     0.0   0.0    0.0   0.0   0.0    0.0  0.0    0.0   0.0  ...   \n",
      "1562  0.0     0.0   0.0    0.0   0.0   0.0    0.0  0.0    0.0   0.0  ...   \n",
      "1563  0.0     0.0   0.0    0.0   0.0   0.0    0.0  0.0    0.0   0.0  ...   \n",
      "\n",
      "      zhongxiiao  zhongzheng  ziarah  zikir  zina  zona  zubair  zuhri  zuhur  \\\n",
      "0            0.0         0.0     0.0    0.0   0.0   0.0     0.0    0.0    0.0   \n",
      "1            0.0         0.0     0.0    0.0   0.0   0.0     0.0    0.0    0.0   \n",
      "2            0.0         0.0     0.0    0.0   0.0   0.0     0.0    0.0    0.0   \n",
      "4            0.0         0.0     0.0    0.0   0.0   0.0     0.0    0.0    0.0   \n",
      "6            0.0         0.0     0.0    0.0   0.0   0.0     0.0    0.0    0.0   \n",
      "...          ...         ...     ...    ...   ...   ...     ...    ...    ...   \n",
      "1558         0.0         0.0     0.0    0.0   0.0   0.0     0.0    0.0    0.0   \n",
      "1559         0.0         0.0     0.0    0.0   0.0   0.0     0.0    0.0    0.0   \n",
      "1561         0.0         0.0     0.0    0.0   0.0   0.0     0.0    0.0    0.0   \n",
      "1562         0.0         0.0     0.0    0.0   0.0   0.0     0.0    0.0    0.0   \n",
      "1563         0.0         0.0     0.0    0.0   0.0   0.0     0.0    0.0    0.0   \n",
      "\n",
      "      zulkifli  \n",
      "0          0.0  \n",
      "1          0.0  \n",
      "2          0.0  \n",
      "4          0.0  \n",
      "6          0.0  \n",
      "...        ...  \n",
      "1558       0.0  \n",
      "1559       0.0  \n",
      "1561       0.0  \n",
      "1562       0.0  \n",
      "1563       0.0  \n",
      "\n",
      "[1485 rows x 4159 columns]\n"
     ]
    }
   ],
   "source": [
    "print(tf_idf_df_clean_01)"
   ]
  },
  {
   "cell_type": "code",
   "execution_count": 7,
   "metadata": {},
   "outputs": [],
   "source": [
    "index_centroid = pd.read_excel(\"index_inisiate_centroid.xlsx\")"
   ]
  },
  {
   "cell_type": "code",
   "execution_count": 10,
   "metadata": {},
   "outputs": [
    {
     "name": "stdout",
     "output_type": "stream",
     "text": [
      "0    455\n",
      "1    278\n",
      "2     22\n",
      "Name: 0, dtype: int64\n",
      "     aam  aamiin  abad  abadi  abah  abai  abang  abd  abdan  abdi  ...  \\\n",
      "455  0.0     0.0   0.0    0.0   0.0   0.0    0.0  0.0    0.0   0.0  ...   \n",
      "278  0.0     0.0   0.0    0.0   0.0   0.0    0.0  0.0    0.0   0.0  ...   \n",
      "22   0.0     0.0   0.0    0.0   0.0   0.0    0.0  0.0    0.0   0.0  ...   \n",
      "\n",
      "     zhongxiiao  zhongzheng  ziarah  zikir  zina  zona  zubair  zuhri  zuhur  \\\n",
      "455         0.0         0.0     0.0    0.0   0.0   0.0     0.0    0.0    0.0   \n",
      "278         0.0         0.0     0.0    0.0   0.0   0.0     0.0    0.0    0.0   \n",
      "22          0.0         0.0     0.0    0.0   0.0   0.0     0.0    0.0    0.0   \n",
      "\n",
      "     zulkifli  \n",
      "455       0.0  \n",
      "278       0.0  \n",
      "22        0.0  \n",
      "\n",
      "[3 rows x 4159 columns]\n"
     ]
    }
   ],
   "source": [
    "print(index_centroid.loc[0:2][0])\n",
    "print(tf_idf_df_clean_01.loc[index_centroid.loc[0:2][0]])"
   ]
  },
  {
   "cell_type": "code",
   "execution_count": 14,
   "metadata": {},
   "outputs": [
    {
     "name": "stdout",
     "output_type": "stream",
     "text": [
      "For n_clusters = 2 The average silhouette_score is : 0.0061244086094762494\n",
      "For n_clusters = 3 The average silhouette_score is : 0.0053251893278272846\n",
      "For n_clusters = 4 The average silhouette_score is : 0.0056555960348759595\n",
      "For n_clusters = 5 The average silhouette_score is : 0.006093657424120061\n",
      "For n_clusters = 6 The average silhouette_score is : 0.006577103470544189\n",
      "For n_clusters = 7 The average silhouette_score is : 0.007093632017565587\n",
      "For n_clusters = 8 The average silhouette_score is : 0.01050650801288926\n",
      "For n_clusters = 9 The average silhouette_score is : 0.009921951299512956\n",
      "For n_clusters = 10 The average silhouette_score is : 0.010232462636661574\n",
      "For n_clusters = 11 The average silhouette_score is : 0.010493628578982514\n",
      "For n_clusters = 12 The average silhouette_score is : 0.011699901831385199\n",
      "For n_clusters = 13 The average silhouette_score is : 0.011593352116376882\n",
      "For n_clusters = 14 The average silhouette_score is : 0.011858184458430527\n",
      "For n_clusters = 15 The average silhouette_score is : 0.012306616391491934\n",
      "For n_clusters = 16 The average silhouette_score is : 0.013823814257780382\n",
      "For n_clusters = 17 The average silhouette_score is : 0.01261366938733155\n",
      "For n_clusters = 18 The average silhouette_score is : 0.01241260552738976\n",
      "For n_clusters = 19 The average silhouette_score is : 0.013276723016827648\n",
      "For n_clusters = 20 The average silhouette_score is : 0.013097611482621705\n"
     ]
    }
   ],
   "source": [
    "from sklearn.cluster import KMeans\n",
    "from sklearn.metrics import silhouette_samples, silhouette_score\n",
    "\n",
    "\n",
    "silhouette_0 = []\n",
    "sse_0 = []\n",
    "for n_clusters in range(2,21):\n",
    "    clusterer = KMeans(n_clusters=n_clusters, init=tf_idf_df_clean_01.loc[index_centroid.loc[0:n_clusters-1][0]], random_state=10, n_init=1)\n",
    "    cluster_labels = clusterer.fit_predict(tf_idf_df_clean_01)\n",
    "    silhouette_avg = silhouette_score(tf_idf_df_clean_01, cluster_labels)\n",
    "    print(\"For n_clusters =\", n_clusters, \"The average silhouette_score is :\", silhouette_avg)\n",
    "    silhouette_0.append(silhouette_avg)\n",
    "    sse_0.append(clusterer.inertia_)"
   ]
  },
  {
   "cell_type": "code",
   "execution_count": 15,
   "metadata": {},
   "outputs": [
    {
     "data": {
      "image/png": "[encoded data removed]",
      "text/plain": [
       "<Figure size 432x288 with 1 Axes>"
      ]
     },
     "metadata": {
      "needs_background": "light"
     },
     "output_type": "display_data"
    }
   ],
   "source": [
    "import matplotlib.pyplot as plt\n",
    "import numpy as np\n",
    "from matplotlib import interactive\n",
    "\n",
    "x = [2,3,4,5,6,7,8,9,10,11,12,13,14,15,16,17,18,19,20]\n",
    "y = silhouette_0\n",
    "plt.plot(x,y)\n",
    "plt.show()"
   ]
  },
  {
   "cell_type": "code",
   "execution_count": 16,
   "metadata": {},
   "outputs": [
    {
     "data": {
      "image/png": "[encoded data removed]",
      "text/plain": [
       "<Figure size 432x288 with 1 Axes>"
      ]
     },
     "metadata": {
      "needs_background": "light"
     },
     "output_type": "display_data"
    }
   ],
   "source": [
    "import matplotlib.pyplot as plt\n",
    "import numpy as np\n",
    "from matplotlib import interactive\n",
    "\n",
    "x = [2,3,4,5,6,7,8,9,10,11,12,13,14,15,16,17,18,19,20]\n",
    "y = sse_0\n",
    "plt.plot(x,y)\n",
    "plt.show()"
   ]
  },
  {
   "cell_type": "code",
   "execution_count": 17,
   "metadata": {},
   "outputs": [],
   "source": [
    "silhouette_0_df = pd.DataFrame(silhouette_0)\n",
    "silhouette_0_df.to_excel(\"shillouette_fix_new method.xlsx\")\n",
    "sse_0_df = pd.DataFrame(sse_0)\n",
    "sse_0_df.to_excel(\"sse_new method.xlsx\")"
   ]
  },
  {
   "cell_type": "code",
   "execution_count": 19,
   "metadata": {},
   "outputs": [],
   "source": [
    "from sklearn.cluster import KMeans\n",
    "from sklearn.metrics import silhouette_samples, silhouette_score\n",
    "\n",
    "# 16 cluster\n",
    "clusterer = KMeans(n_clusters=16, init=tf_idf_df_clean_01.loc[index_centroid.loc[0:16-1][0]], random_state=10, n_init=1)\n",
    "cluster_labels = clusterer.fit_predict(tf_idf_df_clean_01)\n",
    "\n",
    "cluster_labels_df = pd.DataFrame(cluster_labels)\n",
    "cluster_labels_df.to_excel(\"cluster_labels_16 new.xlsx\")\n",
    "\n",
    "cluster_centroid_df = pd.DataFrame(clusterer.cluster_centers_)\n",
    "cluster_centroid_df.to_excel(\"cluster_centroid_16 new.xlsx\")"
   ]
  },
  {
   "cell_type": "code",
   "execution_count": null,
   "metadata": {},
   "outputs": [],
   "source": []
  }
 ],
 "metadata": {
  "kernelspec": {
   "display_name": "Python 3",
   "language": "python",
   "name": "python3"
  },
  "language_info": {
   "codemirror_mode": {
    "name": "ipython",
    "version": 3
   },
   "file_extension": ".py",
   "mimetype": "text/x-python",
   "name": "python",
   "nbconvert_exporter": "python",
   "pygments_lexer": "ipython3",
   "version": "3.7.0"
  }
 },
 "nbformat": 4,
 "nbformat_minor": 2
}
